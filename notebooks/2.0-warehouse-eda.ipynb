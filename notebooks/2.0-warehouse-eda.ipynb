{
 "cells": [
  {
   "cell_type": "code",
   "execution_count": 14,
   "id": "8024607f",
   "metadata": {},
   "outputs": [
    {
     "data": {
      "text/plain": [
       "['px_cat_g1v2',\n",
       " 'prd_info',\n",
       " 'cust_info',\n",
       " 'cust_az12',\n",
       " 'loc_a101',\n",
       " 'sales_details']"
      ]
     },
     "execution_count": 14,
     "metadata": {},
     "output_type": "execute_result"
    }
   ],
   "source": [
    "from src.data import Warehouse\n",
    "from src.config import WAREHOUSE_DATABASE_URL\n",
    "import polars as pl\n",
    "\n",
    "WAREHOUSE = Warehouse(WAREHOUSE_DATABASE_URL)\n",
    "tables = WAREHOUSE.get_table_names()\n",
    "tables"
   ]
  },
  {
   "cell_type": "code",
   "execution_count": 18,
   "id": "924facef",
   "metadata": {},
   "outputs": [
    {
     "data": {
      "text/html": [
       "<div><style>\n",
       ".dataframe > thead > tr,\n",
       ".dataframe > tbody > tr {\n",
       "  text-align: right;\n",
       "  white-space: pre-wrap;\n",
       "}\n",
       "</style>\n",
       "<small>shape: (13_583, 2)</small><table border=\"1\" class=\"dataframe\"><thead><tr><th>country</th><th>cst_lastname</th></tr><tr><td>str</td><td>str</td></tr></thead><tbody><tr><td>&quot;United States&quot;</td><td>&quot;Allen&quot;</td></tr><tr><td>&quot;USA&quot;</td><td>&quot;Anderson&quot;</td></tr><tr><td>&quot;France&quot;</td><td>&quot;Luo&quot;</td></tr><tr><td>&quot;United States&quot;</td><td>&quot;Xu&quot;</td></tr><tr><td>&quot;United States&quot;</td><td>&quot;Lal&quot;</td></tr><tr><td>&hellip;</td><td>&hellip;</td></tr><tr><td>&quot;United Kingdom&quot;</td><td>&quot;Vazquez&quot;</td></tr><tr><td>&quot;United States&quot;</td><td>&quot;Price&quot;</td></tr><tr><td>&quot;United States&quot;</td><td>&quot;Pal&quot;</td></tr><tr><td>&quot;Germany&quot;</td><td>&quot;Kelly&quot;</td></tr><tr><td>&quot;USA&quot;</td><td>&quot;Phillips&quot;</td></tr></tbody></table></div>"
      ],
      "text/plain": [
       "shape: (13_583, 2)\n",
       "┌────────────────┬──────────────┐\n",
       "│ country        ┆ cst_lastname │\n",
       "│ ---            ┆ ---          │\n",
       "│ str            ┆ str          │\n",
       "╞════════════════╪══════════════╡\n",
       "│ United States  ┆ Allen        │\n",
       "│ USA            ┆ Anderson     │\n",
       "│ France         ┆ Luo          │\n",
       "│ United States  ┆ Xu           │\n",
       "│ United States  ┆ Lal          │\n",
       "│ …              ┆ …            │\n",
       "│ United Kingdom ┆ Vazquez      │\n",
       "│ United States  ┆ Price        │\n",
       "│ United States  ┆ Pal          │\n",
       "│ Germany        ┆ Kelly        │\n",
       "│ USA            ┆ Phillips     │\n",
       "└────────────────┴──────────────┘"
      ]
     },
     "execution_count": 18,
     "metadata": {},
     "output_type": "execute_result"
    }
   ],
   "source": [
    "WAREHOUSE.sql(\n",
    "    \"\"\"\n",
    "    SELECT\n",
    "        country,\n",
    "        cst_lastname\n",
    "    FROM \n",
    "        loc_a101\n",
    "    JOIN\n",
    "        cust_info\n",
    "    ON\n",
    "        loc_a101.cid = cust_info.cst_key\n",
    "    \"\"\"\n",
    ")"
   ]
  },
  {
   "cell_type": "code",
   "execution_count": 15,
   "id": "ea4a3ffd",
   "metadata": {},
   "outputs": [
    {
     "data": {
      "text/html": [
       "<div><style>\n",
       ".dataframe > thead > tr,\n",
       ".dataframe > tbody > tr {\n",
       "  text-align: right;\n",
       "  white-space: pre-wrap;\n",
       "}\n",
       "</style>\n",
       "<small>shape: (0, 0)</small><table border=\"1\" class=\"dataframe\"><thead><tr></tr><tr></tr></thead><tbody></tbody></table></div>"
      ],
      "text/plain": [
       "shape: (0, 0)\n",
       "┌┐\n",
       "╞╡\n",
       "└┘"
      ]
     },
     "execution_count": 15,
     "metadata": {},
     "output_type": "execute_result"
    }
   ],
   "source": [
    "WAREHOUSE.get_table(\"loc_a101\")"
   ]
  },
  {
   "cell_type": "code",
   "execution_count": 16,
   "id": "7556a2bd",
   "metadata": {},
   "outputs": [
    {
     "data": {
      "text/html": [
       "<div><style>\n",
       ".dataframe > thead > tr,\n",
       ".dataframe > tbody > tr {\n",
       "  text-align: right;\n",
       "  white-space: pre-wrap;\n",
       "}\n",
       "</style>\n",
       "<small>shape: (0, 0)</small><table border=\"1\" class=\"dataframe\"><thead><tr></tr><tr></tr></thead><tbody></tbody></table></div>"
      ],
      "text/plain": [
       "shape: (0, 0)\n",
       "┌┐\n",
       "╞╡\n",
       "└┘"
      ]
     },
     "execution_count": 16,
     "metadata": {},
     "output_type": "execute_result"
    }
   ],
   "source": [
    "WAREHOUSE.get_table(\"cust_info\")"
   ]
  },
  {
   "cell_type": "code",
   "execution_count": 5,
   "id": "34f71cb2",
   "metadata": {},
   "outputs": [
    {
     "data": {
      "text/html": [
       "<div><style>\n",
       ".dataframe > thead > tr,\n",
       ".dataframe > tbody > tr {\n",
       "  text-align: right;\n",
       "  white-space: pre-wrap;\n",
       "}\n",
       "</style>\n",
       "<small>shape: (0, 0)</small><table border=\"1\" class=\"dataframe\"><thead><tr></tr><tr></tr></thead><tbody></tbody></table></div>"
      ],
      "text/plain": [
       "shape: (0, 0)\n",
       "┌┐\n",
       "╞╡\n",
       "└┘"
      ]
     },
     "execution_count": 5,
     "metadata": {},
     "output_type": "execute_result"
    }
   ],
   "source": [
    "WAREHOUSE.get_table(\"px_cat_g1v2\")"
   ]
  },
  {
   "cell_type": "code",
   "execution_count": 6,
   "id": "49ae4ed0",
   "metadata": {},
   "outputs": [
    {
     "data": {
      "text/html": [
       "<div><style>\n",
       ".dataframe > thead > tr,\n",
       ".dataframe > tbody > tr {\n",
       "  text-align: right;\n",
       "  white-space: pre-wrap;\n",
       "}\n",
       "</style>\n",
       "<small>shape: (0, 0)</small><table border=\"1\" class=\"dataframe\"><thead><tr></tr><tr></tr></thead><tbody></tbody></table></div>"
      ],
      "text/plain": [
       "shape: (0, 0)\n",
       "┌┐\n",
       "╞╡\n",
       "└┘"
      ]
     },
     "execution_count": 6,
     "metadata": {},
     "output_type": "execute_result"
    }
   ],
   "source": [
    "WAREHOUSE.get_table(\"prd_info\")"
   ]
  },
  {
   "cell_type": "code",
   "execution_count": 7,
   "id": "75c37d5a",
   "metadata": {},
   "outputs": [
    {
     "data": {
      "text/html": [
       "<div><style>\n",
       ".dataframe > thead > tr,\n",
       ".dataframe > tbody > tr {\n",
       "  text-align: right;\n",
       "  white-space: pre-wrap;\n",
       "}\n",
       "</style>\n",
       "<small>shape: (0, 0)</small><table border=\"1\" class=\"dataframe\"><thead><tr></tr><tr></tr></thead><tbody></tbody></table></div>"
      ],
      "text/plain": [
       "shape: (0, 0)\n",
       "┌┐\n",
       "╞╡\n",
       "└┘"
      ]
     },
     "execution_count": 7,
     "metadata": {},
     "output_type": "execute_result"
    }
   ],
   "source": [
    "WAREHOUSE.get_table(\"sales_details\")"
   ]
  },
  {
   "cell_type": "code",
   "execution_count": 8,
   "id": "43b92ca3",
   "metadata": {},
   "outputs": [
    {
     "data": {
      "text/html": [
       "<div><style>\n",
       ".dataframe > thead > tr,\n",
       ".dataframe > tbody > tr {\n",
       "  text-align: right;\n",
       "  white-space: pre-wrap;\n",
       "}\n",
       "</style>\n",
       "<small>shape: (0, 0)</small><table border=\"1\" class=\"dataframe\"><thead><tr></tr><tr></tr></thead><tbody></tbody></table></div>"
      ],
      "text/plain": [
       "shape: (0, 0)\n",
       "┌┐\n",
       "╞╡\n",
       "└┘"
      ]
     },
     "execution_count": 8,
     "metadata": {},
     "output_type": "execute_result"
    }
   ],
   "source": [
    "WAREHOUSE.get_table(\"cust_az12\")"
   ]
  }
 ],
 "metadata": {
  "kernelspec": {
   "display_name": ".venv",
   "language": "python",
   "name": "python3"
  },
  "language_info": {
   "codemirror_mode": {
    "name": "ipython",
    "version": 3
   },
   "file_extension": ".py",
   "mimetype": "text/x-python",
   "name": "python",
   "nbconvert_exporter": "python",
   "pygments_lexer": "ipython3",
   "version": "3.12.9"
  }
 },
 "nbformat": 4,
 "nbformat_minor": 5
}
