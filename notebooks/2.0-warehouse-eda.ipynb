{
 "cells": [
  {
   "cell_type": "code",
   "execution_count": 1,
   "id": "8024607f",
   "metadata": {},
   "outputs": [
    {
     "name": "stderr",
     "output_type": "stream",
     "text": [
      "\u001b[32m2025-05-17 21:10:40.508\u001b[0m | \u001b[1mINFO    \u001b[0m | \u001b[36msrc.config\u001b[0m:\u001b[36m<module>\u001b[0m:\u001b[36m33\u001b[0m - \u001b[1mPROJECT_ROOT: D:\\Documents\\3 Production Save Files\\1 Cloned repositories\\final-exam-cloud-comp\u001b[0m\n",
      "\u001b[32m2025-05-17 21:10:40.510\u001b[0m | \u001b[1mINFO    \u001b[0m | \u001b[36msrc.config\u001b[0m:\u001b[36m<module>\u001b[0m:\u001b[36m34\u001b[0m - \u001b[1mDATA_DIR: D:\\Documents\\3 Production Save Files\\1 Cloned repositories\\final-exam-cloud-comp\\data\u001b[0m\n"
     ]
    },
    {
     "data": {
      "text/plain": [
       "['px_cat_g1v2',\n",
       " 'cust_info',\n",
       " 'prd_info',\n",
       " 'sales_details',\n",
       " 'cust_az12',\n",
       " 'loc_a101']"
      ]
     },
     "execution_count": 1,
     "metadata": {},
     "output_type": "execute_result"
    }
   ],
   "source": [
    "from src.data import Warehouse\n",
    "from src.config import WAREHOUSE_DATABASE_URL\n",
    "import polars as pl\n",
    "\n",
    "WAREHOUSE = Warehouse(WAREHOUSE_DATABASE_URL)\n",
    "tables = WAREHOUSE.get_table_names()\n",
    "tables"
   ]
  },
  {
   "cell_type": "code",
   "execution_count": 2,
   "id": "240e7964",
   "metadata": {},
   "outputs": [],
   "source": [
    "cust_info = WAREHOUSE.get_table(\"cust_info\")"
   ]
  },
  {
   "cell_type": "code",
   "execution_count": 3,
   "id": "e7a90322",
   "metadata": {},
   "outputs": [
    {
     "data": {
      "text/html": [
       "<div><style>\n",
       ".dataframe > thead > tr,\n",
       ".dataframe > tbody > tr {\n",
       "  text-align: right;\n",
       "  white-space: pre-wrap;\n",
       "}\n",
       "</style>\n",
       "<small>shape: (13_915, 7)</small><table border=\"1\" class=\"dataframe\"><thead><tr><th>cst_id</th><th>cst_key</th><th>cst_firstname</th><th>cst_lastname</th><th>cst_marital_status</th><th>cst_gndr</th><th>cst_create_date</th></tr><tr><td>i64</td><td>str</td><td>str</td><td>str</td><td>str</td><td>str</td><td>date</td></tr></thead><tbody><tr><td>18600</td><td>&quot;AW00018600&quot;</td><td>&quot;Ashley&quot;</td><td>&quot;Gonzales&quot;</td><td>&quot;M&quot;</td><td>&quot;F&quot;</td><td>2026-01-04</td></tr><tr><td>16399</td><td>&quot;AW00016399&quot;</td><td>&quot;Arturo&quot;</td><td>&quot;Xu&quot;</td><td>&quot;S&quot;</td><td>&quot;M&quot;</td><td>2026-01-04</td></tr><tr><td>18307</td><td>&quot;AW00018307&quot;</td><td>&quot;Amy&quot;</td><td>&quot;Zhang&quot;</td><td>&quot;S&quot;</td><td>&quot;F&quot;</td><td>2026-01-04</td></tr><tr><td>27431</td><td>&quot;AW00027431&quot;</td><td>&quot;Ethan&quot;</td><td>&quot;Jenkins&quot;</td><td>&quot;S&quot;</td><td>&quot;M&quot;</td><td>2026-01-14</td></tr><tr><td>22143</td><td>&quot;AW00022143&quot;</td><td>&quot;Summer&quot;</td><td>&quot;Prasad&quot;</td><td>&quot;M&quot;</td><td>&quot;F&quot;</td><td>2026-01-05</td></tr><tr><td>&hellip;</td><td>&hellip;</td><td>&hellip;</td><td>&hellip;</td><td>&hellip;</td><td>&hellip;</td><td>&hellip;</td></tr><tr><td>21442</td><td>&quot;AW00021442&quot;</td><td>&quot;Savannah&quot;</td><td>&quot;Cook&quot;</td><td>&quot;S&quot;</td><td>&quot;F&quot;</td><td>2026-01-05</td></tr><tr><td>22954</td><td>&quot;AW00022954&quot;</td><td>&quot;Justin&quot;</td><td>&quot;Thompson&quot;</td><td>&quot;S&quot;</td><td>&quot;M&quot;</td><td>2026-01-05</td></tr><tr><td>27573</td><td>&quot;AW00027573&quot;</td><td>&quot;Hunter&quot;</td><td>&quot;Lal&quot;</td><td>&quot;M&quot;</td><td>&quot;M&quot;</td><td>2026-01-14</td></tr><tr><td>22860</td><td>&quot;AW00022860&quot;</td><td>&quot;Cedric&quot;</td><td>&quot;Kumar&quot;</td><td>&quot;M&quot;</td><td>&quot;M&quot;</td><td>2026-01-05</td></tr><tr><td>28130</td><td>&quot;AW00028130&quot;</td><td>&quot;Joshua&quot;</td><td>&quot;Taylor&quot;</td><td>&quot;S&quot;</td><td>&quot;M&quot;</td><td>2026-01-25</td></tr></tbody></table></div>"
      ],
      "text/plain": [
       "shape: (13_915, 7)\n",
       "┌────────┬────────────┬───────────────┬──────────────┬─────────────────┬──────────┬────────────────┐\n",
       "│ cst_id ┆ cst_key    ┆ cst_firstname ┆ cst_lastname ┆ cst_marital_sta ┆ cst_gndr ┆ cst_create_dat │\n",
       "│ ---    ┆ ---        ┆ ---           ┆ ---          ┆ tus             ┆ ---      ┆ e              │\n",
       "│ i64    ┆ str        ┆ str           ┆ str          ┆ ---             ┆ str      ┆ ---            │\n",
       "│        ┆            ┆               ┆              ┆ str             ┆          ┆ date           │\n",
       "╞════════╪════════════╪═══════════════╪══════════════╪═════════════════╪══════════╪════════════════╡\n",
       "│ 18600  ┆ AW00018600 ┆ Ashley        ┆ Gonzales     ┆ M               ┆ F        ┆ 2026-01-04     │\n",
       "│ 16399  ┆ AW00016399 ┆ Arturo        ┆ Xu           ┆ S               ┆ M        ┆ 2026-01-04     │\n",
       "│ 18307  ┆ AW00018307 ┆ Amy           ┆ Zhang        ┆ S               ┆ F        ┆ 2026-01-04     │\n",
       "│ 27431  ┆ AW00027431 ┆ Ethan         ┆ Jenkins      ┆ S               ┆ M        ┆ 2026-01-14     │\n",
       "│ 22143  ┆ AW00022143 ┆ Summer        ┆ Prasad       ┆ M               ┆ F        ┆ 2026-01-05     │\n",
       "│ …      ┆ …          ┆ …             ┆ …            ┆ …               ┆ …        ┆ …              │\n",
       "│ 21442  ┆ AW00021442 ┆ Savannah      ┆ Cook         ┆ S               ┆ F        ┆ 2026-01-05     │\n",
       "│ 22954  ┆ AW00022954 ┆ Justin        ┆ Thompson     ┆ S               ┆ M        ┆ 2026-01-05     │\n",
       "│ 27573  ┆ AW00027573 ┆ Hunter        ┆ Lal          ┆ M               ┆ M        ┆ 2026-01-14     │\n",
       "│ 22860  ┆ AW00022860 ┆ Cedric        ┆ Kumar        ┆ M               ┆ M        ┆ 2026-01-05     │\n",
       "│ 28130  ┆ AW00028130 ┆ Joshua        ┆ Taylor       ┆ S               ┆ M        ┆ 2026-01-25     │\n",
       "└────────┴────────────┴───────────────┴──────────────┴─────────────────┴──────────┴────────────────┘"
      ]
     },
     "execution_count": 3,
     "metadata": {},
     "output_type": "execute_result"
    }
   ],
   "source": [
    "cust_info"
   ]
  }
 ],
 "metadata": {
  "kernelspec": {
   "display_name": ".venv",
   "language": "python",
   "name": "python3"
  },
  "language_info": {
   "codemirror_mode": {
    "name": "ipython",
    "version": 3
   },
   "file_extension": ".py",
   "mimetype": "text/x-python",
   "name": "python",
   "nbconvert_exporter": "python",
   "pygments_lexer": "ipython3",
   "version": "3.12.9"
  }
 },
 "nbformat": 4,
 "nbformat_minor": 5
}
