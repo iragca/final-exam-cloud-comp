{
 "cells": [
  {
   "cell_type": "code",
   "execution_count": null,
   "id": "a2278a68",
   "metadata": {},
   "outputs": [
    {
     "data": {
      "text/plain": [
       "['cust_info',\n",
       " 'prd_info',\n",
       " 'sales_details',\n",
       " 'cust_az12',\n",
       " 'loc_a101',\n",
       " 'px_cat_g1v2']"
      ]
     },
     "execution_count": 12,
     "metadata": {},
     "output_type": "execute_result"
    }
   ],
   "source": [
    "from src.data import Staging\n",
    "from src.config import STAGING_DATABASE_URL\n",
    "import polars as pl\n",
    "\n",
    "STAGING = Staging(STAGING_DATABASE_URL)\n",
    "tables = STAGING.get_table_names()\n",
    "tables"
   ]
  },
  {
   "cell_type": "code",
   "execution_count": 57,
   "id": "40e77c39",
   "metadata": {},
   "outputs": [
    {
     "data": {
      "text/html": [
       "<div><style>\n",
       ".dataframe > thead > tr,\n",
       ".dataframe > tbody > tr {\n",
       "  text-align: right;\n",
       "  white-space: pre-wrap;\n",
       "}\n",
       "</style>\n",
       "<small>shape: (37, 4)</small><table border=\"1\" class=\"dataframe\"><thead><tr><th>ID</th><th>CAT</th><th>SUBCAT</th><th>MAINTENANCE</th></tr><tr><td>str</td><td>str</td><td>str</td><td>str</td></tr></thead><tbody><tr><td>&quot;AC_BR&quot;</td><td>&quot;Accessories&quot;</td><td>&quot;Bike Racks&quot;</td><td>&quot;Yes&quot;</td></tr><tr><td>&quot;AC_BS&quot;</td><td>&quot;Accessories&quot;</td><td>&quot;Bike Stands&quot;</td><td>&quot;No&quot;</td></tr><tr><td>&quot;AC_BC&quot;</td><td>&quot;Accessories&quot;</td><td>&quot;Bottles and Cages&quot;</td><td>&quot;No&quot;</td></tr><tr><td>&quot;AC_CL&quot;</td><td>&quot;Accessories&quot;</td><td>&quot;Cleaners&quot;</td><td>&quot;Yes&quot;</td></tr><tr><td>&quot;AC_FE&quot;</td><td>&quot;Accessories&quot;</td><td>&quot;Fenders&quot;</td><td>&quot;No&quot;</td></tr><tr><td>&hellip;</td><td>&hellip;</td><td>&hellip;</td><td>&hellip;</td></tr><tr><td>&quot;CO_PD&quot;</td><td>&quot;Components&quot;</td><td>&quot;Pedals&quot;</td><td>&quot;No&quot;</td></tr><tr><td>&quot;CO_RF&quot;</td><td>&quot;Components&quot;</td><td>&quot;Road Frames&quot;</td><td>&quot;Yes&quot;</td></tr><tr><td>&quot;CO_SA&quot;</td><td>&quot;Components&quot;</td><td>&quot;Saddles&quot;</td><td>&quot;No&quot;</td></tr><tr><td>&quot;CO_TF&quot;</td><td>&quot;Components&quot;</td><td>&quot;Touring Frames&quot;</td><td>&quot;Yes&quot;</td></tr><tr><td>&quot;CO_WH&quot;</td><td>&quot;Components&quot;</td><td>&quot;Wheels&quot;</td><td>&quot;Yes&quot;</td></tr></tbody></table></div>"
      ],
      "text/plain": [
       "shape: (37, 4)\n",
       "┌───────┬─────────────┬───────────────────┬─────────────┐\n",
       "│ ID    ┆ CAT         ┆ SUBCAT            ┆ MAINTENANCE │\n",
       "│ ---   ┆ ---         ┆ ---               ┆ ---         │\n",
       "│ str   ┆ str         ┆ str               ┆ str         │\n",
       "╞═══════╪═════════════╪═══════════════════╪═════════════╡\n",
       "│ AC_BR ┆ Accessories ┆ Bike Racks        ┆ Yes         │\n",
       "│ AC_BS ┆ Accessories ┆ Bike Stands       ┆ No          │\n",
       "│ AC_BC ┆ Accessories ┆ Bottles and Cages ┆ No          │\n",
       "│ AC_CL ┆ Accessories ┆ Cleaners          ┆ Yes         │\n",
       "│ AC_FE ┆ Accessories ┆ Fenders           ┆ No          │\n",
       "│ …     ┆ …           ┆ …                 ┆ …           │\n",
       "│ CO_PD ┆ Components  ┆ Pedals            ┆ No          │\n",
       "│ CO_RF ┆ Components  ┆ Road Frames       ┆ Yes         │\n",
       "│ CO_SA ┆ Components  ┆ Saddles           ┆ No          │\n",
       "│ CO_TF ┆ Components  ┆ Touring Frames    ┆ Yes         │\n",
       "│ CO_WH ┆ Components  ┆ Wheels            ┆ Yes         │\n",
       "└───────┴─────────────┴───────────────────┴─────────────┘"
      ]
     },
     "execution_count": 57,
     "metadata": {},
     "output_type": "execute_result"
    }
   ],
   "source": [
    "df = STAGING.get_table(\"px_cat_g1v2\")\n",
    "df"
   ]
  },
  {
   "cell_type": "code",
   "execution_count": 21,
   "id": "9de54f5b",
   "metadata": {},
   "outputs": [
    {
     "data": {
      "text/html": [
       "<div><style>\n",
       ".dataframe > thead > tr,\n",
       ".dataframe > tbody > tr {\n",
       "  text-align: right;\n",
       "  white-space: pre-wrap;\n",
       "}\n",
       "</style>\n",
       "<small>shape: (3, 2)</small><table border=\"1\" class=\"dataframe\"><thead><tr><th>prd_end_dt</th><th>count</th></tr><tr><td>str</td><td>u32</td></tr></thead><tbody><tr><td>&quot;2007-12-28&quot;</td><td>72</td></tr><tr><td>&quot;2008-12-27&quot;</td><td>128</td></tr><tr><td>null</td><td>197</td></tr></tbody></table></div>"
      ],
      "text/plain": [
       "shape: (3, 2)\n",
       "┌────────────┬───────┐\n",
       "│ prd_end_dt ┆ count │\n",
       "│ ---        ┆ ---   │\n",
       "│ str        ┆ u32   │\n",
       "╞════════════╪═══════╡\n",
       "│ 2007-12-28 ┆ 72    │\n",
       "│ 2008-12-27 ┆ 128   │\n",
       "│ null       ┆ 197   │\n",
       "└────────────┴───────┘"
      ]
     },
     "execution_count": 21,
     "metadata": {},
     "output_type": "execute_result"
    }
   ],
   "source": [
    "df[\"prd_end_dt\"].value_counts()"
   ]
  },
  {
   "cell_type": "code",
   "execution_count": 14,
   "id": "c637b602",
   "metadata": {},
   "outputs": [
    {
     "data": {
      "text/html": [
       "<div><style>\n",
       ".dataframe > thead > tr,\n",
       ".dataframe > tbody > tr {\n",
       "  text-align: right;\n",
       "  white-space: pre-wrap;\n",
       "}\n",
       "</style>\n",
       "<small>shape: (3, 2)</small><table border=\"1\" class=\"dataframe\"><thead><tr><th>cst_gndr</th><th>count</th></tr><tr><td>str</td><td>u32</td></tr></thead><tbody><tr><td>&quot;F&quot;</td><td>6848</td></tr><tr><td>&quot;M&quot;</td><td>7068</td></tr><tr><td>null</td><td>4578</td></tr></tbody></table></div>"
      ],
      "text/plain": [
       "shape: (3, 2)\n",
       "┌──────────┬───────┐\n",
       "│ cst_gndr ┆ count │\n",
       "│ ---      ┆ ---   │\n",
       "│ str      ┆ u32   │\n",
       "╞══════════╪═══════╡\n",
       "│ F        ┆ 6848  │\n",
       "│ M        ┆ 7068  │\n",
       "│ null     ┆ 4578  │\n",
       "└──────────┴───────┘"
      ]
     },
     "execution_count": 14,
     "metadata": {},
     "output_type": "execute_result"
    }
   ],
   "source": [
    "cust_info[\"cst_gndr\"].value_counts()"
   ]
  },
  {
   "cell_type": "code",
   "execution_count": null,
   "id": "be83a610",
   "metadata": {},
   "outputs": [
    {
     "name": "stdout",
     "output_type": "stream",
     "text": [
      "2013-03-03\n"
     ]
    }
   ],
   "source": [
    "def int_to_date_str(date_int: int) -> str:\n",
    "    date_str = str(date_int)\n",
    "    return f\"{date_str[:4]}-{date_str[4:6]}-{date_str[6:]}\"\n",
    "print(int_to_date_str(20130303))  # Output: \"2013-03-03\"\n"
   ]
  },
  {
   "cell_type": "code",
   "execution_count": 46,
   "id": "34845880",
   "metadata": {},
   "outputs": [
    {
     "name": "stdout",
     "output_type": "stream",
     "text": [
      "2013-03-03\n"
     ]
    }
   ],
   "source": [
    "from datetime import datetime\n",
    "\n",
    "def int_to_date(date_int: int) -> datetime.date:\n",
    "    try:\n",
    "        result = datetime.strptime(str(date_int), \"%Y%m%d\").date()\n",
    "        return result\n",
    "    except ValueError:\n",
    "        print(f\"Invalid date format: {date_int}. Expected format: YYYYMMDD.\")\n",
    "        return None\n",
    "\n",
    "print(int_to_date(20130303))  # Output: datetime.date(2013, 3, 3)\n"
   ]
  },
  {
   "cell_type": "code",
   "execution_count": 58,
   "id": "b83d7ac2",
   "metadata": {},
   "outputs": [
    {
     "data": {
      "text/html": [
       "<div><style>\n",
       ".dataframe > thead > tr,\n",
       ".dataframe > tbody > tr {\n",
       "  text-align: right;\n",
       "  white-space: pre-wrap;\n",
       "}\n",
       "</style>\n",
       "<small>shape: (37, 4)</small><table border=\"1\" class=\"dataframe\"><thead><tr><th>ID</th><th>CAT</th><th>SUBCAT</th><th>MAINTENANCE</th></tr><tr><td>str</td><td>str</td><td>str</td><td>str</td></tr></thead><tbody><tr><td>&quot;CO_TF&quot;</td><td>&quot;Components&quot;</td><td>&quot;Touring Frames&quot;</td><td>&quot;Yes&quot;</td></tr><tr><td>&quot;CO_WH&quot;</td><td>&quot;Components&quot;</td><td>&quot;Wheels&quot;</td><td>&quot;Yes&quot;</td></tr><tr><td>&quot;CL_JE&quot;</td><td>&quot;Clothing&quot;</td><td>&quot;Jerseys&quot;</td><td>&quot;No&quot;</td></tr><tr><td>&quot;CL_SO&quot;</td><td>&quot;Clothing&quot;</td><td>&quot;Socks&quot;</td><td>&quot;No&quot;</td></tr><tr><td>&quot;CO_HS&quot;</td><td>&quot;Components&quot;</td><td>&quot;Headsets&quot;</td><td>&quot;No&quot;</td></tr><tr><td>&hellip;</td><td>&hellip;</td><td>&hellip;</td><td>&hellip;</td></tr><tr><td>&quot;CL_SH&quot;</td><td>&quot;Clothing&quot;</td><td>&quot;Shorts&quot;</td><td>&quot;No&quot;</td></tr><tr><td>&quot;CL_CA&quot;</td><td>&quot;Clothing&quot;</td><td>&quot;Caps&quot;</td><td>&quot;No&quot;</td></tr><tr><td>&quot;AC_PU&quot;</td><td>&quot;Accessories&quot;</td><td>&quot;Pumps&quot;</td><td>&quot;Yes&quot;</td></tr><tr><td>&quot;CO_BB&quot;</td><td>&quot;Components&quot;</td><td>&quot;Bottom Brackets&quot;</td><td>&quot;Yes&quot;</td></tr><tr><td>&quot;CO_SA&quot;</td><td>&quot;Components&quot;</td><td>&quot;Saddles&quot;</td><td>&quot;No&quot;</td></tr></tbody></table></div>"
      ],
      "text/plain": [
       "shape: (37, 4)\n",
       "┌───────┬─────────────┬─────────────────┬─────────────┐\n",
       "│ ID    ┆ CAT         ┆ SUBCAT          ┆ MAINTENANCE │\n",
       "│ ---   ┆ ---         ┆ ---             ┆ ---         │\n",
       "│ str   ┆ str         ┆ str             ┆ str         │\n",
       "╞═══════╪═════════════╪═════════════════╪═════════════╡\n",
       "│ CO_TF ┆ Components  ┆ Touring Frames  ┆ Yes         │\n",
       "│ CO_WH ┆ Components  ┆ Wheels          ┆ Yes         │\n",
       "│ CL_JE ┆ Clothing    ┆ Jerseys         ┆ No          │\n",
       "│ CL_SO ┆ Clothing    ┆ Socks           ┆ No          │\n",
       "│ CO_HS ┆ Components  ┆ Headsets        ┆ No          │\n",
       "│ …     ┆ …           ┆ …               ┆ …           │\n",
       "│ CL_SH ┆ Clothing    ┆ Shorts          ┆ No          │\n",
       "│ CL_CA ┆ Clothing    ┆ Caps            ┆ No          │\n",
       "│ AC_PU ┆ Accessories ┆ Pumps           ┆ Yes         │\n",
       "│ CO_BB ┆ Components  ┆ Bottom Brackets ┆ Yes         │\n",
       "│ CO_SA ┆ Components  ┆ Saddles         ┆ No          │\n",
       "└───────┴─────────────┴─────────────────┴─────────────┘"
      ]
     },
     "execution_count": 58,
     "metadata": {},
     "output_type": "execute_result"
    }
   ],
   "source": [
    "(\n",
    "    df.unique()\n",
    "    .drop_nulls()\n",
    ")"
   ]
  },
  {
   "cell_type": "code",
   "execution_count": 1,
   "id": "c719469b",
   "metadata": {},
   "outputs": [
    {
     "name": "stdout",
     "output_type": "stream",
     "text": [
      "Logging call...\n",
      "Hello!\n"
     ]
    }
   ],
   "source": [
    "def my_decorator(func):\n",
    "    def wrapped(*args, **kwargs):\n",
    "        print(\"Logging call...\")\n",
    "        return func(*args, **kwargs)\n",
    "    return wrapped\n",
    "\n",
    "@my_decorator\n",
    "def say_hello():\n",
    "    print(\"Hello!\")\n",
    "\n",
    "say_hello()\n"
   ]
  }
 ],
 "metadata": {
  "kernelspec": {
   "display_name": ".venv",
   "language": "python",
   "name": "python3"
  },
  "language_info": {
   "codemirror_mode": {
    "name": "ipython",
    "version": 3
   },
   "file_extension": ".py",
   "mimetype": "text/x-python",
   "name": "python",
   "nbconvert_exporter": "python",
   "pygments_lexer": "ipython3",
   "version": "3.12.9"
  }
 },
 "nbformat": 4,
 "nbformat_minor": 5
}
