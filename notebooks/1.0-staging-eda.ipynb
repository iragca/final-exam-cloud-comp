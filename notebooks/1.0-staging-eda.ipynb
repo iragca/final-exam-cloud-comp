{
 "cells": [
  {
   "cell_type": "code",
   "execution_count": 1,
   "id": "a2278a68",
   "metadata": {},
   "outputs": [
    {
     "name": "stderr",
     "output_type": "stream",
     "text": [
      "\u001b[32m2025-05-24 18:01:57.035\u001b[0m | \u001b[1mINFO    \u001b[0m | \u001b[36msrc.config\u001b[0m:\u001b[36m<module>\u001b[0m:\u001b[36m32\u001b[0m - \u001b[1mPROJECT_ROOT: D:\\Documents\\3 Production Save Files\\1 Cloned repositories\\final-exam-cloud-comp\u001b[0m\n",
      "\u001b[32m2025-05-24 18:01:57.036\u001b[0m | \u001b[1mINFO    \u001b[0m | \u001b[36msrc.config\u001b[0m:\u001b[36m<module>\u001b[0m:\u001b[36m33\u001b[0m - \u001b[1mDATA_DIR: D:\\Documents\\3 Production Save Files\\1 Cloned repositories\\final-exam-cloud-comp\\data\u001b[0m\n"
     ]
    },
    {
     "data": {
      "text/plain": [
       "['cust_info',\n",
       " 'prd_info',\n",
       " 'sales_details',\n",
       " 'cust_az12',\n",
       " 'loc_a101',\n",
       " 'px_cat_g1v2']"
      ]
     },
     "execution_count": 1,
     "metadata": {},
     "output_type": "execute_result"
    }
   ],
   "source": [
    "from src.data import Staging\n",
    "from src.config import STAGING_DATABASE_URL\n",
    "import polars as pl\n",
    "\n",
    "STAGING = Staging(STAGING_DATABASE_URL)\n",
    "tables = STAGING.get_table_names()\n",
    "tables"
   ]
  },
  {
   "cell_type": "code",
   "execution_count": 2,
   "id": "40e77c39",
   "metadata": {},
   "outputs": [
    {
     "data": {
      "text/html": [
       "<div><style>\n",
       ".dataframe > thead > tr,\n",
       ".dataframe > tbody > tr {\n",
       "  text-align: right;\n",
       "  white-space: pre-wrap;\n",
       "}\n",
       "</style>\n",
       "<small>shape: (37, 4)</small><table border=\"1\" class=\"dataframe\"><thead><tr><th>ID</th><th>CAT</th><th>SUBCAT</th><th>MAINTENANCE</th></tr><tr><td>str</td><td>str</td><td>str</td><td>str</td></tr></thead><tbody><tr><td>&quot;AC_BR&quot;</td><td>&quot;Accessories&quot;</td><td>&quot;Bike Racks&quot;</td><td>&quot;Yes&quot;</td></tr><tr><td>&quot;AC_BS&quot;</td><td>&quot;Accessories&quot;</td><td>&quot;Bike Stands&quot;</td><td>&quot;No&quot;</td></tr><tr><td>&quot;AC_BC&quot;</td><td>&quot;Accessories&quot;</td><td>&quot;Bottles and Cages&quot;</td><td>&quot;No&quot;</td></tr><tr><td>&quot;AC_CL&quot;</td><td>&quot;Accessories&quot;</td><td>&quot;Cleaners&quot;</td><td>&quot;Yes&quot;</td></tr><tr><td>&quot;AC_FE&quot;</td><td>&quot;Accessories&quot;</td><td>&quot;Fenders&quot;</td><td>&quot;No&quot;</td></tr><tr><td>&hellip;</td><td>&hellip;</td><td>&hellip;</td><td>&hellip;</td></tr><tr><td>&quot;CO_PD&quot;</td><td>&quot;Components&quot;</td><td>&quot;Pedals&quot;</td><td>&quot;No&quot;</td></tr><tr><td>&quot;CO_RF&quot;</td><td>&quot;Components&quot;</td><td>&quot;Road Frames&quot;</td><td>&quot;Yes&quot;</td></tr><tr><td>&quot;CO_SA&quot;</td><td>&quot;Components&quot;</td><td>&quot;Saddles&quot;</td><td>&quot;No&quot;</td></tr><tr><td>&quot;CO_TF&quot;</td><td>&quot;Components&quot;</td><td>&quot;Touring Frames&quot;</td><td>&quot;Yes&quot;</td></tr><tr><td>&quot;CO_WH&quot;</td><td>&quot;Components&quot;</td><td>&quot;Wheels&quot;</td><td>&quot;Yes&quot;</td></tr></tbody></table></div>"
      ],
      "text/plain": [
       "shape: (37, 4)\n",
       "┌───────┬─────────────┬───────────────────┬─────────────┐\n",
       "│ ID    ┆ CAT         ┆ SUBCAT            ┆ MAINTENANCE │\n",
       "│ ---   ┆ ---         ┆ ---               ┆ ---         │\n",
       "│ str   ┆ str         ┆ str               ┆ str         │\n",
       "╞═══════╪═════════════╪═══════════════════╪═════════════╡\n",
       "│ AC_BR ┆ Accessories ┆ Bike Racks        ┆ Yes         │\n",
       "│ AC_BS ┆ Accessories ┆ Bike Stands       ┆ No          │\n",
       "│ AC_BC ┆ Accessories ┆ Bottles and Cages ┆ No          │\n",
       "│ AC_CL ┆ Accessories ┆ Cleaners          ┆ Yes         │\n",
       "│ AC_FE ┆ Accessories ┆ Fenders           ┆ No          │\n",
       "│ …     ┆ …           ┆ …                 ┆ …           │\n",
       "│ CO_PD ┆ Components  ┆ Pedals            ┆ No          │\n",
       "│ CO_RF ┆ Components  ┆ Road Frames       ┆ Yes         │\n",
       "│ CO_SA ┆ Components  ┆ Saddles           ┆ No          │\n",
       "│ CO_TF ┆ Components  ┆ Touring Frames    ┆ Yes         │\n",
       "│ CO_WH ┆ Components  ┆ Wheels            ┆ Yes         │\n",
       "└───────┴─────────────┴───────────────────┴─────────────┘"
      ]
     },
     "execution_count": 2,
     "metadata": {},
     "output_type": "execute_result"
    }
   ],
   "source": [
    "df = STAGING.get_table(\"px_cat_g1v2\")\n",
    "df"
   ]
  },
  {
   "cell_type": "code",
   "execution_count": 3,
   "id": "9de54f5b",
   "metadata": {},
   "outputs": [
    {
     "data": {
      "text/html": [
       "<div><style>\n",
       ".dataframe > thead > tr,\n",
       ".dataframe > tbody > tr {\n",
       "  text-align: right;\n",
       "  white-space: pre-wrap;\n",
       "}\n",
       "</style>\n",
       "<small>shape: (397, 7)</small><table border=\"1\" class=\"dataframe\"><thead><tr><th>prd_id</th><th>prd_key</th><th>prd_nm</th><th>prd_cost</th><th>prd_line</th><th>prd_start_dt</th><th>prd_end_dt</th></tr><tr><td>i64</td><td>str</td><td>str</td><td>i64</td><td>str</td><td>str</td><td>str</td></tr></thead><tbody><tr><td>210</td><td>&quot;CO-RF-FR-R92B-58&quot;</td><td>&quot;HL Road Frame - Black- 58&quot;</td><td>null</td><td>&quot;R &quot;</td><td>&quot;2003-07-01&quot;</td><td>null</td></tr><tr><td>211</td><td>&quot;CO-RF-FR-R92R-58&quot;</td><td>&quot;HL Road Frame - Red- 58&quot;</td><td>null</td><td>&quot;R &quot;</td><td>&quot;2003-07-01&quot;</td><td>null</td></tr><tr><td>212</td><td>&quot;AC-HE-HL-U509-R&quot;</td><td>&quot;Sport-100 Helmet- Red&quot;</td><td>12</td><td>&quot;S &quot;</td><td>&quot;2011-07-01&quot;</td><td>&quot;2007-12-28&quot;</td></tr><tr><td>213</td><td>&quot;AC-HE-HL-U509-R&quot;</td><td>&quot;Sport-100 Helmet- Red&quot;</td><td>14</td><td>&quot;S &quot;</td><td>&quot;2012-07-01&quot;</td><td>&quot;2008-12-27&quot;</td></tr><tr><td>214</td><td>&quot;AC-HE-HL-U509-R&quot;</td><td>&quot;Sport-100 Helmet- Red&quot;</td><td>13</td><td>&quot;S &quot;</td><td>&quot;2013-07-01&quot;</td><td>null</td></tr><tr><td>&hellip;</td><td>&hellip;</td><td>&hellip;</td><td>&hellip;</td><td>&hellip;</td><td>&hellip;</td><td>&hellip;</td></tr><tr><td>602</td><td>&quot;CO-BB-BB-8107&quot;</td><td>&quot;ML Bottom Bracket&quot;</td><td>45</td><td>null</td><td>&quot;2013-07-01&quot;</td><td>null</td></tr><tr><td>603</td><td>&quot;CO-BB-BB-9108&quot;</td><td>&quot;HL Bottom Bracket&quot;</td><td>54</td><td>null</td><td>&quot;2013-07-01&quot;</td><td>null</td></tr><tr><td>604</td><td>&quot;BI-RB-BK-R19B-44&quot;</td><td>&quot;Road-750 Black- 44&quot;</td><td>344</td><td>&quot;R &quot;</td><td>&quot;2013-07-01&quot;</td><td>null</td></tr><tr><td>605</td><td>&quot;BI-RB-BK-R19B-48&quot;</td><td>&quot;Road-750 Black- 48&quot;</td><td>344</td><td>&quot;R &quot;</td><td>&quot;2013-07-01&quot;</td><td>null</td></tr><tr><td>606</td><td>&quot;BI-RB-BK-R19B-52&quot;</td><td>&quot;Road-750 Black- 52&quot;</td><td>344</td><td>&quot;R &quot;</td><td>&quot;2013-07-01&quot;</td><td>null</td></tr></tbody></table></div>"
      ],
      "text/plain": [
       "shape: (397, 7)\n",
       "┌────────┬──────────────────┬────────────────────┬──────────┬──────────┬──────────────┬────────────┐\n",
       "│ prd_id ┆ prd_key          ┆ prd_nm             ┆ prd_cost ┆ prd_line ┆ prd_start_dt ┆ prd_end_dt │\n",
       "│ ---    ┆ ---              ┆ ---                ┆ ---      ┆ ---      ┆ ---          ┆ ---        │\n",
       "│ i64    ┆ str              ┆ str                ┆ i64      ┆ str      ┆ str          ┆ str        │\n",
       "╞════════╪══════════════════╪════════════════════╪══════════╪══════════╪══════════════╪════════════╡\n",
       "│ 210    ┆ CO-RF-FR-R92B-58 ┆ HL Road Frame -    ┆ null     ┆ R        ┆ 2003-07-01   ┆ null       │\n",
       "│        ┆                  ┆ Black- 58          ┆          ┆          ┆              ┆            │\n",
       "│ 211    ┆ CO-RF-FR-R92R-58 ┆ HL Road Frame -    ┆ null     ┆ R        ┆ 2003-07-01   ┆ null       │\n",
       "│        ┆                  ┆ Red- 58            ┆          ┆          ┆              ┆            │\n",
       "│ 212    ┆ AC-HE-HL-U509-R  ┆ Sport-100 Helmet-  ┆ 12       ┆ S        ┆ 2011-07-01   ┆ 2007-12-28 │\n",
       "│        ┆                  ┆ Red                ┆          ┆          ┆              ┆            │\n",
       "│ 213    ┆ AC-HE-HL-U509-R  ┆ Sport-100 Helmet-  ┆ 14       ┆ S        ┆ 2012-07-01   ┆ 2008-12-27 │\n",
       "│        ┆                  ┆ Red                ┆          ┆          ┆              ┆            │\n",
       "│ 214    ┆ AC-HE-HL-U509-R  ┆ Sport-100 Helmet-  ┆ 13       ┆ S        ┆ 2013-07-01   ┆ null       │\n",
       "│        ┆                  ┆ Red                ┆          ┆          ┆              ┆            │\n",
       "│ …      ┆ …                ┆ …                  ┆ …        ┆ …        ┆ …            ┆ …          │\n",
       "│ 602    ┆ CO-BB-BB-8107    ┆ ML Bottom Bracket  ┆ 45       ┆ null     ┆ 2013-07-01   ┆ null       │\n",
       "│ 603    ┆ CO-BB-BB-9108    ┆ HL Bottom Bracket  ┆ 54       ┆ null     ┆ 2013-07-01   ┆ null       │\n",
       "│ 604    ┆ BI-RB-BK-R19B-44 ┆ Road-750 Black- 44 ┆ 344      ┆ R        ┆ 2013-07-01   ┆ null       │\n",
       "│ 605    ┆ BI-RB-BK-R19B-48 ┆ Road-750 Black- 48 ┆ 344      ┆ R        ┆ 2013-07-01   ┆ null       │\n",
       "│ 606    ┆ BI-RB-BK-R19B-52 ┆ Road-750 Black- 52 ┆ 344      ┆ R        ┆ 2013-07-01   ┆ null       │\n",
       "└────────┴──────────────────┴────────────────────┴──────────┴──────────┴──────────────┴────────────┘"
      ]
     },
     "execution_count": 3,
     "metadata": {},
     "output_type": "execute_result"
    }
   ],
   "source": [
    "STAGING.get_table(\"prd_info\")"
   ]
  },
  {
   "cell_type": "code",
   "execution_count": 6,
   "id": "623d1ca3",
   "metadata": {},
   "outputs": [
    {
     "data": {
      "text/html": [
       "<div><style>\n",
       ".dataframe > thead > tr,\n",
       ".dataframe > tbody > tr {\n",
       "  text-align: right;\n",
       "  white-space: pre-wrap;\n",
       "}\n",
       "</style>\n",
       "<small>shape: (18_484, 3)</small><table border=\"1\" class=\"dataframe\"><thead><tr><th>CID</th><th>BDATE</th><th>GEN</th></tr><tr><td>str</td><td>str</td><td>str</td></tr></thead><tbody><tr><td>&quot;NASAW00011000&quot;</td><td>&quot;1971-10-06&quot;</td><td>&quot;Male&quot;</td></tr><tr><td>&quot;NASAW00011001&quot;</td><td>&quot;1976-05-10&quot;</td><td>&quot;Male&quot;</td></tr><tr><td>&quot;NASAW00011002&quot;</td><td>&quot;1971-02-09&quot;</td><td>&quot;Male&quot;</td></tr><tr><td>&quot;NASAW00011003&quot;</td><td>&quot;1973-08-14&quot;</td><td>&quot;Female&quot;</td></tr><tr><td>&quot;NASAW00011004&quot;</td><td>&quot;1979-08-05&quot;</td><td>&quot;Female&quot;</td></tr><tr><td>&hellip;</td><td>&hellip;</td><td>&hellip;</td></tr><tr><td>&quot;AW00029479&quot;</td><td>&quot;1969-06-30&quot;</td><td>null</td></tr><tr><td>&quot;AW00029480&quot;</td><td>&quot;1977-05-06&quot;</td><td>null</td></tr><tr><td>&quot;AW00029481&quot;</td><td>&quot;1965-07-04&quot;</td><td>null</td></tr><tr><td>&quot;AW00029482&quot;</td><td>&quot;1964-09-01&quot;</td><td>null</td></tr><tr><td>&quot;AW00029483&quot;</td><td>&quot;1965-06-06&quot;</td><td>null</td></tr></tbody></table></div>"
      ],
      "text/plain": [
       "shape: (18_484, 3)\n",
       "┌───────────────┬────────────┬────────┐\n",
       "│ CID           ┆ BDATE      ┆ GEN    │\n",
       "│ ---           ┆ ---        ┆ ---    │\n",
       "│ str           ┆ str        ┆ str    │\n",
       "╞═══════════════╪════════════╪════════╡\n",
       "│ NASAW00011000 ┆ 1971-10-06 ┆ Male   │\n",
       "│ NASAW00011001 ┆ 1976-05-10 ┆ Male   │\n",
       "│ NASAW00011002 ┆ 1971-02-09 ┆ Male   │\n",
       "│ NASAW00011003 ┆ 1973-08-14 ┆ Female │\n",
       "│ NASAW00011004 ┆ 1979-08-05 ┆ Female │\n",
       "│ …             ┆ …          ┆ …      │\n",
       "│ AW00029479    ┆ 1969-06-30 ┆ null   │\n",
       "│ AW00029480    ┆ 1977-05-06 ┆ null   │\n",
       "│ AW00029481    ┆ 1965-07-04 ┆ null   │\n",
       "│ AW00029482    ┆ 1964-09-01 ┆ null   │\n",
       "│ AW00029483    ┆ 1965-06-06 ┆ null   │\n",
       "└───────────────┴────────────┴────────┘"
      ]
     },
     "execution_count": 6,
     "metadata": {},
     "output_type": "execute_result"
    }
   ],
   "source": [
    "STAGING.get_table(\"cust_az12\")"
   ]
  },
  {
   "cell_type": "code",
   "execution_count": 7,
   "id": "0cde77a6",
   "metadata": {},
   "outputs": [
    {
     "data": {
      "text/html": [
       "<div><style>\n",
       ".dataframe > thead > tr,\n",
       ".dataframe > tbody > tr {\n",
       "  text-align: right;\n",
       "  white-space: pre-wrap;\n",
       "}\n",
       "</style>\n",
       "<small>shape: (18_494, 7)</small><table border=\"1\" class=\"dataframe\"><thead><tr><th>cst_id</th><th>cst_key</th><th>cst_firstname</th><th>cst_lastname</th><th>cst_marital_status</th><th>cst_gndr</th><th>cst_create_date</th></tr><tr><td>i64</td><td>str</td><td>str</td><td>str</td><td>str</td><td>str</td><td>str</td></tr></thead><tbody><tr><td>11000</td><td>&quot;AW00011000&quot;</td><td>&quot; Jon&quot;</td><td>&quot;Yang &quot;</td><td>&quot;M&quot;</td><td>&quot;M&quot;</td><td>&quot;2025-10-06&quot;</td></tr><tr><td>11001</td><td>&quot;AW00011001&quot;</td><td>&quot;Eugene&quot;</td><td>&quot;Huang&nbsp;&nbsp;&quot;</td><td>&quot;S&quot;</td><td>&quot;M&quot;</td><td>&quot;2025-10-06&quot;</td></tr><tr><td>11002</td><td>&quot;AW00011002&quot;</td><td>&quot;Ruben&quot;</td><td>&quot; Torres&quot;</td><td>&quot;M&quot;</td><td>&quot;M&quot;</td><td>&quot;2025-10-06&quot;</td></tr><tr><td>11003</td><td>&quot;AW00011003&quot;</td><td>&quot;Christy&quot;</td><td>&quot;&nbsp;&nbsp;Zhu&quot;</td><td>&quot;S&quot;</td><td>&quot;F&quot;</td><td>&quot;2025-10-06&quot;</td></tr><tr><td>11004</td><td>&quot;AW00011004&quot;</td><td>&quot; Elizabeth&quot;</td><td>&quot;Johnson&quot;</td><td>&quot;S&quot;</td><td>&quot;F&quot;</td><td>&quot;2025-10-06&quot;</td></tr><tr><td>&hellip;</td><td>&hellip;</td><td>&hellip;</td><td>&hellip;</td><td>&hellip;</td><td>&hellip;</td><td>&hellip;</td></tr><tr><td>29482</td><td>&quot;AW00029482&quot;</td><td>&quot;Clayton&quot;</td><td>&quot;Zhang&quot;</td><td>&quot;M&quot;</td><td>null</td><td>&quot;2026-01-25&quot;</td></tr><tr><td>29483</td><td>&quot;AW00029483&quot;</td><td>null</td><td>&quot;Navarro&quot;</td><td>null</td><td>null</td><td>&quot;2026-01-25&quot;</td></tr><tr><td>29483</td><td>&quot;AW00029483&quot;</td><td>&quot;Marc&quot;</td><td>&quot;Navarro&quot;</td><td>&quot;M&quot;</td><td>null</td><td>&quot;2026-01-27&quot;</td></tr><tr><td>null</td><td>&quot;13451235&quot;</td><td>null</td><td>null</td><td>null</td><td>null</td><td>null</td></tr><tr><td>null</td><td>&quot;A01Ass&quot;</td><td>null</td><td>null</td><td>null</td><td>null</td><td>null</td></tr></tbody></table></div>"
      ],
      "text/plain": [
       "shape: (18_494, 7)\n",
       "┌────────┬────────────┬───────────────┬──────────────┬─────────────────┬──────────┬────────────────┐\n",
       "│ cst_id ┆ cst_key    ┆ cst_firstname ┆ cst_lastname ┆ cst_marital_sta ┆ cst_gndr ┆ cst_create_dat │\n",
       "│ ---    ┆ ---        ┆ ---           ┆ ---          ┆ tus             ┆ ---      ┆ e              │\n",
       "│ i64    ┆ str        ┆ str           ┆ str          ┆ ---             ┆ str      ┆ ---            │\n",
       "│        ┆            ┆               ┆              ┆ str             ┆          ┆ str            │\n",
       "╞════════╪════════════╪═══════════════╪══════════════╪═════════════════╪══════════╪════════════════╡\n",
       "│ 11000  ┆ AW00011000 ┆  Jon          ┆ Yang         ┆ M               ┆ M        ┆ 2025-10-06     │\n",
       "│ 11001  ┆ AW00011001 ┆ Eugene        ┆ Huang        ┆ S               ┆ M        ┆ 2025-10-06     │\n",
       "│ 11002  ┆ AW00011002 ┆ Ruben         ┆  Torres      ┆ M               ┆ M        ┆ 2025-10-06     │\n",
       "│ 11003  ┆ AW00011003 ┆ Christy       ┆   Zhu        ┆ S               ┆ F        ┆ 2025-10-06     │\n",
       "│ 11004  ┆ AW00011004 ┆  Elizabeth    ┆ Johnson      ┆ S               ┆ F        ┆ 2025-10-06     │\n",
       "│ …      ┆ …          ┆ …             ┆ …            ┆ …               ┆ …        ┆ …              │\n",
       "│ 29482  ┆ AW00029482 ┆ Clayton       ┆ Zhang        ┆ M               ┆ null     ┆ 2026-01-25     │\n",
       "│ 29483  ┆ AW00029483 ┆ null          ┆ Navarro      ┆ null            ┆ null     ┆ 2026-01-25     │\n",
       "│ 29483  ┆ AW00029483 ┆ Marc          ┆ Navarro      ┆ M               ┆ null     ┆ 2026-01-27     │\n",
       "│ null   ┆ 13451235   ┆ null          ┆ null         ┆ null            ┆ null     ┆ null           │\n",
       "│ null   ┆ A01Ass     ┆ null          ┆ null         ┆ null            ┆ null     ┆ null           │\n",
       "└────────┴────────────┴───────────────┴──────────────┴─────────────────┴──────────┴────────────────┘"
      ]
     },
     "execution_count": 7,
     "metadata": {},
     "output_type": "execute_result"
    }
   ],
   "source": [
    "STAGING.get_table(\"cust_info\")"
   ]
  },
  {
   "cell_type": "code",
   "execution_count": null,
   "id": "bde8bb4b",
   "metadata": {},
   "outputs": [
    {
     "data": {
      "text/html": [
       "<div><style>\n",
       ".dataframe > thead > tr,\n",
       ".dataframe > tbody > tr {\n",
       "  text-align: right;\n",
       "  white-space: pre-wrap;\n",
       "}\n",
       "</style>\n",
       "<small>shape: (60_398, 9)</small><table border=\"1\" class=\"dataframe\"><thead><tr><th>sls_ord_num</th><th>sls_prd_key</th><th>sls_cust_id</th><th>sls_order_dt</th><th>sls_ship_dt</th><th>sls_due_dt</th><th>sls_sales</th><th>sls_quantity</th><th>sls_price</th></tr><tr><td>str</td><td>str</td><td>i64</td><td>i64</td><td>i64</td><td>i64</td><td>i64</td><td>i64</td><td>i64</td></tr></thead><tbody><tr><td>&quot;SO43697&quot;</td><td>&quot;BK-R93R-62&quot;</td><td>21768</td><td>20101229</td><td>20110105</td><td>20110110</td><td>3578</td><td>1</td><td>3578</td></tr><tr><td>&quot;SO43698&quot;</td><td>&quot;BK-M82S-44&quot;</td><td>28389</td><td>20101229</td><td>20110105</td><td>20110110</td><td>3400</td><td>1</td><td>3400</td></tr><tr><td>&quot;SO43699&quot;</td><td>&quot;BK-M82S-44&quot;</td><td>25863</td><td>20101229</td><td>20110105</td><td>20110110</td><td>3400</td><td>1</td><td>3400</td></tr><tr><td>&quot;SO43700&quot;</td><td>&quot;BK-R50B-62&quot;</td><td>14501</td><td>20101229</td><td>20110105</td><td>20110110</td><td>699</td><td>1</td><td>699</td></tr><tr><td>&quot;SO43701&quot;</td><td>&quot;BK-M82S-44&quot;</td><td>11003</td><td>20101229</td><td>20110105</td><td>20110110</td><td>3400</td><td>1</td><td>3400</td></tr><tr><td>&hellip;</td><td>&hellip;</td><td>&hellip;</td><td>&hellip;</td><td>&hellip;</td><td>&hellip;</td><td>&hellip;</td><td>&hellip;</td><td>&hellip;</td></tr><tr><td>&quot;SO75122&quot;</td><td>&quot;FE-6654&quot;</td><td>15868</td><td>20140128</td><td>20140204</td><td>20140209</td><td>22</td><td>1</td><td>22</td></tr><tr><td>&quot;SO75122&quot;</td><td>&quot;CA-1098&quot;</td><td>15868</td><td>20140128</td><td>20140204</td><td>20140209</td><td>9</td><td>1</td><td>9</td></tr><tr><td>&quot;SO75123&quot;</td><td>&quot;FE-6654&quot;</td><td>18759</td><td>20140128</td><td>20140204</td><td>20140209</td><td>22</td><td>1</td><td>22</td></tr><tr><td>&quot;SO75123&quot;</td><td>&quot;ST-1401&quot;</td><td>18759</td><td>20140128</td><td>20140204</td><td>20140209</td><td>159</td><td>1</td><td>159</td></tr><tr><td>&quot;SO75123&quot;</td><td>&quot;CA-1098&quot;</td><td>18759</td><td>20140128</td><td>20140204</td><td>20140209</td><td>9</td><td>1</td><td>9</td></tr></tbody></table></div>"
      ],
      "text/plain": [
       "shape: (60_398, 9)\n",
       "┌───────────┬───────────┬───────────┬───────────┬───┬───────────┬───────────┬───────────┬──────────┐\n",
       "│ sls_ord_n ┆ sls_prd_k ┆ sls_cust_ ┆ sls_order ┆ … ┆ sls_due_d ┆ sls_sales ┆ sls_quant ┆ sls_pric │\n",
       "│ um        ┆ ey        ┆ id        ┆ _dt       ┆   ┆ t         ┆ ---       ┆ ity       ┆ e        │\n",
       "│ ---       ┆ ---       ┆ ---       ┆ ---       ┆   ┆ ---       ┆ i64       ┆ ---       ┆ ---      │\n",
       "│ str       ┆ str       ┆ i64       ┆ i64       ┆   ┆ i64       ┆           ┆ i64       ┆ i64      │\n",
       "╞═══════════╪═══════════╪═══════════╪═══════════╪═══╪═══════════╪═══════════╪═══════════╪══════════╡\n",
       "│ SO43697   ┆ BK-R93R-6 ┆ 21768     ┆ 20101229  ┆ … ┆ 20110110  ┆ 3578      ┆ 1         ┆ 3578     │\n",
       "│           ┆ 2         ┆           ┆           ┆   ┆           ┆           ┆           ┆          │\n",
       "│ SO43698   ┆ BK-M82S-4 ┆ 28389     ┆ 20101229  ┆ … ┆ 20110110  ┆ 3400      ┆ 1         ┆ 3400     │\n",
       "│           ┆ 4         ┆           ┆           ┆   ┆           ┆           ┆           ┆          │\n",
       "│ SO43699   ┆ BK-M82S-4 ┆ 25863     ┆ 20101229  ┆ … ┆ 20110110  ┆ 3400      ┆ 1         ┆ 3400     │\n",
       "│           ┆ 4         ┆           ┆           ┆   ┆           ┆           ┆           ┆          │\n",
       "│ SO43700   ┆ BK-R50B-6 ┆ 14501     ┆ 20101229  ┆ … ┆ 20110110  ┆ 699       ┆ 1         ┆ 699      │\n",
       "│           ┆ 2         ┆           ┆           ┆   ┆           ┆           ┆           ┆          │\n",
       "│ SO43701   ┆ BK-M82S-4 ┆ 11003     ┆ 20101229  ┆ … ┆ 20110110  ┆ 3400      ┆ 1         ┆ 3400     │\n",
       "│           ┆ 4         ┆           ┆           ┆   ┆           ┆           ┆           ┆          │\n",
       "│ …         ┆ …         ┆ …         ┆ …         ┆ … ┆ …         ┆ …         ┆ …         ┆ …        │\n",
       "│ SO75122   ┆ FE-6654   ┆ 15868     ┆ 20140128  ┆ … ┆ 20140209  ┆ 22        ┆ 1         ┆ 22       │\n",
       "│ SO75122   ┆ CA-1098   ┆ 15868     ┆ 20140128  ┆ … ┆ 20140209  ┆ 9         ┆ 1         ┆ 9        │\n",
       "│ SO75123   ┆ FE-6654   ┆ 18759     ┆ 20140128  ┆ … ┆ 20140209  ┆ 22        ┆ 1         ┆ 22       │\n",
       "│ SO75123   ┆ ST-1401   ┆ 18759     ┆ 20140128  ┆ … ┆ 20140209  ┆ 159       ┆ 1         ┆ 159      │\n",
       "│ SO75123   ┆ CA-1098   ┆ 18759     ┆ 20140128  ┆ … ┆ 20140209  ┆ 9         ┆ 1         ┆ 9        │\n",
       "└───────────┴───────────┴───────────┴───────────┴───┴───────────┴───────────┴───────────┴──────────┘"
      ]
     },
     "execution_count": 8,
     "metadata": {},
     "output_type": "execute_result"
    }
   ],
   "source": [
    "STAGING.get_table(\"sales_details\")"
   ]
  },
  {
   "cell_type": "code",
   "execution_count": 9,
   "id": "85bd6926",
   "metadata": {},
   "outputs": [
    {
     "data": {
      "text/html": [
       "<div><style>\n",
       ".dataframe > thead > tr,\n",
       ".dataframe > tbody > tr {\n",
       "  text-align: right;\n",
       "  white-space: pre-wrap;\n",
       "}\n",
       "</style>\n",
       "<small>shape: (18_484, 2)</small><table border=\"1\" class=\"dataframe\"><thead><tr><th>CID</th><th>CNTRY</th></tr><tr><td>str</td><td>str</td></tr></thead><tbody><tr><td>&quot;AW-00011000&quot;</td><td>&quot;Australia&quot;</td></tr><tr><td>&quot;AW-00011001&quot;</td><td>&quot;Australia&quot;</td></tr><tr><td>&quot;AW-00011002&quot;</td><td>&quot;Australia&quot;</td></tr><tr><td>&quot;AW-00011003&quot;</td><td>&quot;Australia&quot;</td></tr><tr><td>&quot;AW-00011004&quot;</td><td>&quot;Australia&quot;</td></tr><tr><td>&hellip;</td><td>&hellip;</td></tr><tr><td>&quot;AW-00029479&quot;</td><td>&quot;France&quot;</td></tr><tr><td>&quot;AW-00029480&quot;</td><td>&quot;United Kingdom&quot;</td></tr><tr><td>&quot;AW-00029481&quot;</td><td>&quot;Germany&quot;</td></tr><tr><td>&quot;AW-00029482&quot;</td><td>&quot;France&quot;</td></tr><tr><td>&quot;AW-00029483&quot;</td><td>&quot;France&quot;</td></tr></tbody></table></div>"
      ],
      "text/plain": [
       "shape: (18_484, 2)\n",
       "┌─────────────┬────────────────┐\n",
       "│ CID         ┆ CNTRY          │\n",
       "│ ---         ┆ ---            │\n",
       "│ str         ┆ str            │\n",
       "╞═════════════╪════════════════╡\n",
       "│ AW-00011000 ┆ Australia      │\n",
       "│ AW-00011001 ┆ Australia      │\n",
       "│ AW-00011002 ┆ Australia      │\n",
       "│ AW-00011003 ┆ Australia      │\n",
       "│ AW-00011004 ┆ Australia      │\n",
       "│ …           ┆ …              │\n",
       "│ AW-00029479 ┆ France         │\n",
       "│ AW-00029480 ┆ United Kingdom │\n",
       "│ AW-00029481 ┆ Germany        │\n",
       "│ AW-00029482 ┆ France         │\n",
       "│ AW-00029483 ┆ France         │\n",
       "└─────────────┴────────────────┘"
      ]
     },
     "execution_count": 9,
     "metadata": {},
     "output_type": "execute_result"
    }
   ],
   "source": [
    "STAGING.get_table(\"loc_a101\")"
   ]
  },
  {
   "cell_type": "code",
   "execution_count": 14,
   "id": "c637b602",
   "metadata": {},
   "outputs": [
    {
     "data": {
      "text/html": [
       "<div><style>\n",
       ".dataframe > thead > tr,\n",
       ".dataframe > tbody > tr {\n",
       "  text-align: right;\n",
       "  white-space: pre-wrap;\n",
       "}\n",
       "</style>\n",
       "<small>shape: (3, 2)</small><table border=\"1\" class=\"dataframe\"><thead><tr><th>cst_gndr</th><th>count</th></tr><tr><td>str</td><td>u32</td></tr></thead><tbody><tr><td>&quot;F&quot;</td><td>6848</td></tr><tr><td>&quot;M&quot;</td><td>7068</td></tr><tr><td>null</td><td>4578</td></tr></tbody></table></div>"
      ],
      "text/plain": [
       "shape: (3, 2)\n",
       "┌──────────┬───────┐\n",
       "│ cst_gndr ┆ count │\n",
       "│ ---      ┆ ---   │\n",
       "│ str      ┆ u32   │\n",
       "╞══════════╪═══════╡\n",
       "│ F        ┆ 6848  │\n",
       "│ M        ┆ 7068  │\n",
       "│ null     ┆ 4578  │\n",
       "└──────────┴───────┘"
      ]
     },
     "execution_count": 14,
     "metadata": {},
     "output_type": "execute_result"
    }
   ],
   "source": [
    "cust_info[\"cst_gndr\"].value_counts()"
   ]
  },
  {
   "cell_type": "code",
   "execution_count": null,
   "id": "be83a610",
   "metadata": {},
   "outputs": [
    {
     "name": "stdout",
     "output_type": "stream",
     "text": [
      "2013-03-03\n"
     ]
    }
   ],
   "source": [
    "def int_to_date_str(date_int: int) -> str:\n",
    "    date_str = str(date_int)\n",
    "    return f\"{date_str[:4]}-{date_str[4:6]}-{date_str[6:]}\"\n",
    "print(int_to_date_str(20130303))  # Output: \"2013-03-03\"\n"
   ]
  },
  {
   "cell_type": "code",
   "execution_count": 46,
   "id": "34845880",
   "metadata": {},
   "outputs": [
    {
     "name": "stdout",
     "output_type": "stream",
     "text": [
      "2013-03-03\n"
     ]
    }
   ],
   "source": [
    "from datetime import datetime\n",
    "\n",
    "def int_to_date(date_int: int) -> datetime.date:\n",
    "    try:\n",
    "        result = datetime.strptime(str(date_int), \"%Y%m%d\").date()\n",
    "        return result\n",
    "    except ValueError:\n",
    "        print(f\"Invalid date format: {date_int}. Expected format: YYYYMMDD.\")\n",
    "        return None\n",
    "\n",
    "print(int_to_date(20130303))  # Output: datetime.date(2013, 3, 3)\n"
   ]
  },
  {
   "cell_type": "code",
   "execution_count": 58,
   "id": "b83d7ac2",
   "metadata": {},
   "outputs": [
    {
     "data": {
      "text/html": [
       "<div><style>\n",
       ".dataframe > thead > tr,\n",
       ".dataframe > tbody > tr {\n",
       "  text-align: right;\n",
       "  white-space: pre-wrap;\n",
       "}\n",
       "</style>\n",
       "<small>shape: (37, 4)</small><table border=\"1\" class=\"dataframe\"><thead><tr><th>ID</th><th>CAT</th><th>SUBCAT</th><th>MAINTENANCE</th></tr><tr><td>str</td><td>str</td><td>str</td><td>str</td></tr></thead><tbody><tr><td>&quot;CO_TF&quot;</td><td>&quot;Components&quot;</td><td>&quot;Touring Frames&quot;</td><td>&quot;Yes&quot;</td></tr><tr><td>&quot;CO_WH&quot;</td><td>&quot;Components&quot;</td><td>&quot;Wheels&quot;</td><td>&quot;Yes&quot;</td></tr><tr><td>&quot;CL_JE&quot;</td><td>&quot;Clothing&quot;</td><td>&quot;Jerseys&quot;</td><td>&quot;No&quot;</td></tr><tr><td>&quot;CL_SO&quot;</td><td>&quot;Clothing&quot;</td><td>&quot;Socks&quot;</td><td>&quot;No&quot;</td></tr><tr><td>&quot;CO_HS&quot;</td><td>&quot;Components&quot;</td><td>&quot;Headsets&quot;</td><td>&quot;No&quot;</td></tr><tr><td>&hellip;</td><td>&hellip;</td><td>&hellip;</td><td>&hellip;</td></tr><tr><td>&quot;CL_SH&quot;</td><td>&quot;Clothing&quot;</td><td>&quot;Shorts&quot;</td><td>&quot;No&quot;</td></tr><tr><td>&quot;CL_CA&quot;</td><td>&quot;Clothing&quot;</td><td>&quot;Caps&quot;</td><td>&quot;No&quot;</td></tr><tr><td>&quot;AC_PU&quot;</td><td>&quot;Accessories&quot;</td><td>&quot;Pumps&quot;</td><td>&quot;Yes&quot;</td></tr><tr><td>&quot;CO_BB&quot;</td><td>&quot;Components&quot;</td><td>&quot;Bottom Brackets&quot;</td><td>&quot;Yes&quot;</td></tr><tr><td>&quot;CO_SA&quot;</td><td>&quot;Components&quot;</td><td>&quot;Saddles&quot;</td><td>&quot;No&quot;</td></tr></tbody></table></div>"
      ],
      "text/plain": [
       "shape: (37, 4)\n",
       "┌───────┬─────────────┬─────────────────┬─────────────┐\n",
       "│ ID    ┆ CAT         ┆ SUBCAT          ┆ MAINTENANCE │\n",
       "│ ---   ┆ ---         ┆ ---             ┆ ---         │\n",
       "│ str   ┆ str         ┆ str             ┆ str         │\n",
       "╞═══════╪═════════════╪═════════════════╪═════════════╡\n",
       "│ CO_TF ┆ Components  ┆ Touring Frames  ┆ Yes         │\n",
       "│ CO_WH ┆ Components  ┆ Wheels          ┆ Yes         │\n",
       "│ CL_JE ┆ Clothing    ┆ Jerseys         ┆ No          │\n",
       "│ CL_SO ┆ Clothing    ┆ Socks           ┆ No          │\n",
       "│ CO_HS ┆ Components  ┆ Headsets        ┆ No          │\n",
       "│ …     ┆ …           ┆ …               ┆ …           │\n",
       "│ CL_SH ┆ Clothing    ┆ Shorts          ┆ No          │\n",
       "│ CL_CA ┆ Clothing    ┆ Caps            ┆ No          │\n",
       "│ AC_PU ┆ Accessories ┆ Pumps           ┆ Yes         │\n",
       "│ CO_BB ┆ Components  ┆ Bottom Brackets ┆ Yes         │\n",
       "│ CO_SA ┆ Components  ┆ Saddles         ┆ No          │\n",
       "└───────┴─────────────┴─────────────────┴─────────────┘"
      ]
     },
     "execution_count": 58,
     "metadata": {},
     "output_type": "execute_result"
    }
   ],
   "source": [
    "(\n",
    "    df.unique()\n",
    "    .drop_nulls()\n",
    ")"
   ]
  },
  {
   "cell_type": "code",
   "execution_count": 1,
   "id": "c719469b",
   "metadata": {},
   "outputs": [
    {
     "name": "stdout",
     "output_type": "stream",
     "text": [
      "Logging call...\n",
      "Hello!\n"
     ]
    }
   ],
   "source": [
    "def my_decorator(func):\n",
    "    def wrapped(*args, **kwargs):\n",
    "        print(\"Logging call...\")\n",
    "        return func(*args, **kwargs)\n",
    "    return wrapped\n",
    "\n",
    "@my_decorator\n",
    "def say_hello():\n",
    "    print(\"Hello!\")\n",
    "\n",
    "say_hello()\n"
   ]
  }
 ],
 "metadata": {
  "kernelspec": {
   "display_name": ".venv",
   "language": "python",
   "name": "python3"
  },
  "language_info": {
   "codemirror_mode": {
    "name": "ipython",
    "version": 3
   },
   "file_extension": ".py",
   "mimetype": "text/x-python",
   "name": "python",
   "nbconvert_exporter": "python",
   "pygments_lexer": "ipython3",
   "version": "3.12.9"
  }
 },
 "nbformat": 4,
 "nbformat_minor": 5
}
