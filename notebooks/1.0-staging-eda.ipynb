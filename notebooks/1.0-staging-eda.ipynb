{
 "cells": [
  {
   "cell_type": "code",
   "execution_count": 1,
   "id": "a2278a68",
   "metadata": {},
   "outputs": [
    {
     "name": "stderr",
     "output_type": "stream",
     "text": [
      "\u001b[32m2025-05-17 19:38:06.138\u001b[0m | \u001b[1mINFO    \u001b[0m | \u001b[36msrc.config\u001b[0m:\u001b[36m<module>\u001b[0m:\u001b[36m31\u001b[0m - \u001b[1mPROJECT_ROOT: D:\\Documents\\3 Production Save Files\\1 Cloned repositories\\final-exam-cloud-comp\u001b[0m\n",
      "\u001b[32m2025-05-17 19:38:06.139\u001b[0m | \u001b[1mINFO    \u001b[0m | \u001b[36msrc.config\u001b[0m:\u001b[36m<module>\u001b[0m:\u001b[36m32\u001b[0m - \u001b[1mDATA_DIR: D:\\Documents\\3 Production Save Files\\1 Cloned repositories\\final-exam-cloud-comp\\data\u001b[0m\n"
     ]
    },
    {
     "data": {
      "text/plain": [
       "['cust_info',\n",
       " 'prd_info',\n",
       " 'sales_details',\n",
       " 'cust_az12',\n",
       " 'loc_a101',\n",
       " 'px_cat_g1v2']"
      ]
     },
     "execution_count": 1,
     "metadata": {},
     "output_type": "execute_result"
    }
   ],
   "source": [
    "from src.data import Staging\n",
    "from src.config import STAGING_DATABASE_URL\n",
    "\n",
    "STAGING = Staging(STAGING_DATABASE_URL)\n",
    "tables = STAGING.get_table_names()\n",
    "tables"
   ]
  },
  {
   "cell_type": "code",
   "execution_count": 3,
   "id": "40e77c39",
   "metadata": {},
   "outputs": [],
   "source": [
    "cust_info = STAGING.get_table(\"cust_info\")"
   ]
  },
  {
   "cell_type": "code",
   "execution_count": 4,
   "id": "687720bd",
   "metadata": {},
   "outputs": [
    {
     "data": {
      "text/html": [
       "<div><style>\n",
       ".dataframe > thead > tr,\n",
       ".dataframe > tbody > tr {\n",
       "  text-align: right;\n",
       "  white-space: pre-wrap;\n",
       "}\n",
       "</style>\n",
       "<small>shape: (18_494, 7)</small><table border=\"1\" class=\"dataframe\"><thead><tr><th>cst_id</th><th>cst_key</th><th>cst_firstname</th><th>cst_lastname</th><th>cst_marital_status</th><th>cst_gndr</th><th>cst_create_date</th></tr><tr><td>i64</td><td>str</td><td>str</td><td>str</td><td>str</td><td>str</td><td>str</td></tr></thead><tbody><tr><td>11000</td><td>&quot;AW00011000&quot;</td><td>&quot; Jon&quot;</td><td>&quot;Yang &quot;</td><td>&quot;M&quot;</td><td>&quot;M&quot;</td><td>&quot;2025-10-06&quot;</td></tr><tr><td>11001</td><td>&quot;AW00011001&quot;</td><td>&quot;Eugene&quot;</td><td>&quot;Huang&nbsp;&nbsp;&quot;</td><td>&quot;S&quot;</td><td>&quot;M&quot;</td><td>&quot;2025-10-06&quot;</td></tr><tr><td>11002</td><td>&quot;AW00011002&quot;</td><td>&quot;Ruben&quot;</td><td>&quot; Torres&quot;</td><td>&quot;M&quot;</td><td>&quot;M&quot;</td><td>&quot;2025-10-06&quot;</td></tr><tr><td>11003</td><td>&quot;AW00011003&quot;</td><td>&quot;Christy&quot;</td><td>&quot;&nbsp;&nbsp;Zhu&quot;</td><td>&quot;S&quot;</td><td>&quot;F&quot;</td><td>&quot;2025-10-06&quot;</td></tr><tr><td>11004</td><td>&quot;AW00011004&quot;</td><td>&quot; Elizabeth&quot;</td><td>&quot;Johnson&quot;</td><td>&quot;S&quot;</td><td>&quot;F&quot;</td><td>&quot;2025-10-06&quot;</td></tr><tr><td>&hellip;</td><td>&hellip;</td><td>&hellip;</td><td>&hellip;</td><td>&hellip;</td><td>&hellip;</td><td>&hellip;</td></tr><tr><td>29482</td><td>&quot;AW00029482&quot;</td><td>&quot;Clayton&quot;</td><td>&quot;Zhang&quot;</td><td>&quot;M&quot;</td><td>null</td><td>&quot;2026-01-25&quot;</td></tr><tr><td>29483</td><td>&quot;AW00029483&quot;</td><td>null</td><td>&quot;Navarro&quot;</td><td>null</td><td>null</td><td>&quot;2026-01-25&quot;</td></tr><tr><td>29483</td><td>&quot;AW00029483&quot;</td><td>&quot;Marc&quot;</td><td>&quot;Navarro&quot;</td><td>&quot;M&quot;</td><td>null</td><td>&quot;2026-01-27&quot;</td></tr><tr><td>null</td><td>&quot;13451235&quot;</td><td>null</td><td>null</td><td>null</td><td>null</td><td>null</td></tr><tr><td>null</td><td>&quot;A01Ass&quot;</td><td>null</td><td>null</td><td>null</td><td>null</td><td>null</td></tr></tbody></table></div>"
      ],
      "text/plain": [
       "shape: (18_494, 7)\n",
       "┌────────┬────────────┬───────────────┬──────────────┬─────────────────┬──────────┬────────────────┐\n",
       "│ cst_id ┆ cst_key    ┆ cst_firstname ┆ cst_lastname ┆ cst_marital_sta ┆ cst_gndr ┆ cst_create_dat │\n",
       "│ ---    ┆ ---        ┆ ---           ┆ ---          ┆ tus             ┆ ---      ┆ e              │\n",
       "│ i64    ┆ str        ┆ str           ┆ str          ┆ ---             ┆ str      ┆ ---            │\n",
       "│        ┆            ┆               ┆              ┆ str             ┆          ┆ str            │\n",
       "╞════════╪════════════╪═══════════════╪══════════════╪═════════════════╪══════════╪════════════════╡\n",
       "│ 11000  ┆ AW00011000 ┆  Jon          ┆ Yang         ┆ M               ┆ M        ┆ 2025-10-06     │\n",
       "│ 11001  ┆ AW00011001 ┆ Eugene        ┆ Huang        ┆ S               ┆ M        ┆ 2025-10-06     │\n",
       "│ 11002  ┆ AW00011002 ┆ Ruben         ┆  Torres      ┆ M               ┆ M        ┆ 2025-10-06     │\n",
       "│ 11003  ┆ AW00011003 ┆ Christy       ┆   Zhu        ┆ S               ┆ F        ┆ 2025-10-06     │\n",
       "│ 11004  ┆ AW00011004 ┆  Elizabeth    ┆ Johnson      ┆ S               ┆ F        ┆ 2025-10-06     │\n",
       "│ …      ┆ …          ┆ …             ┆ …            ┆ …               ┆ …        ┆ …              │\n",
       "│ 29482  ┆ AW00029482 ┆ Clayton       ┆ Zhang        ┆ M               ┆ null     ┆ 2026-01-25     │\n",
       "│ 29483  ┆ AW00029483 ┆ null          ┆ Navarro      ┆ null            ┆ null     ┆ 2026-01-25     │\n",
       "│ 29483  ┆ AW00029483 ┆ Marc          ┆ Navarro      ┆ M               ┆ null     ┆ 2026-01-27     │\n",
       "│ null   ┆ 13451235   ┆ null          ┆ null         ┆ null            ┆ null     ┆ null           │\n",
       "│ null   ┆ A01Ass     ┆ null          ┆ null         ┆ null            ┆ null     ┆ null           │\n",
       "└────────┴────────────┴───────────────┴──────────────┴─────────────────┴──────────┴────────────────┘"
      ]
     },
     "execution_count": 4,
     "metadata": {},
     "output_type": "execute_result"
    }
   ],
   "source": [
    "cust_info"
   ]
  }
 ],
 "metadata": {
  "kernelspec": {
   "display_name": ".venv",
   "language": "python",
   "name": "python3"
  },
  "language_info": {
   "codemirror_mode": {
    "name": "ipython",
    "version": 3
   },
   "file_extension": ".py",
   "mimetype": "text/x-python",
   "name": "python",
   "nbconvert_exporter": "python",
   "pygments_lexer": "ipython3",
   "version": "3.12.9"
  }
 },
 "nbformat": 4,
 "nbformat_minor": 5
}
